{
 "cells": [
  {
   "cell_type": "code",
   "execution_count": 7,
   "metadata": {
    "scrolled": true
   },
   "outputs": [
    {
     "name": "stdout",
     "output_type": "stream",
     "text": [
      "Box 2\n"
     ]
    }
   ],
   "source": [
    "width = 45\n",
    "length = 210\n",
    "height = 15\n",
    "if (width < 15) and (length < 15) and (height < 15):\n",
    "    print ('Box 2')\n",
    "elif (50 > width > 15) or (50 > length > 15) or (50 > height > 15):\n",
    "    print ('Box 2')\n",
    "elif length >= 200:\n",
    "    print ('Find another box')\n",
    "else: \n",
    "    print ('Standart box 3')"
   ]
  },
  {
   "cell_type": "code",
   "execution_count": 8,
   "metadata": {},
   "outputs": [
    {
     "name": "stdout",
     "output_type": "stream",
     "text": [
      "Введите заработанную плату в месяц:100000\n",
      "Введите сколько процентов уходит на ипотеку:30\n",
      "Введите сколько процентов уходит на жизнь:50\n",
      "Введите количество премий за год:2\n",
      "На ипотеку было потрачено: 30000.0\n",
      "Было накоплено 120000.0\n"
     ]
    }
   ],
   "source": [
    "salary = int(input('Введите заработанную плату в месяц:'))\n",
    "percent_to_credit = int(input('Введите сколько процентов уходит на ипотеку:'))\n",
    "percent_to_life = int(input('Введите сколько процентов уходит на жизнь:'))\n",
    "salary_bonus_counts = int(input('Введите количество премий за год:'))\n",
    "per_to_cr = (salary * percent_to_credit) / 100\n",
    "per_to_li = (salary * percent_to_life) / 100\n",
    "bonus = salary * salary_bonus_counts\n",
    "social = ((100 - (percent_to_credit + percent_to_life)) * salary) / 100\n",
    "print('На ипотеку было потрачено:', per_to_cr)\n",
    "print('Было накоплено', social + (bonus/2))"
   ]
  },
  {
   "cell_type": "code",
   "execution_count": null,
   "metadata": {},
   "outputs": [],
   "source": []
  },
  {
   "cell_type": "code",
   "execution_count": null,
   "metadata": {},
   "outputs": [],
   "source": []
  },
  {
   "cell_type": "code",
   "execution_count": null,
   "metadata": {},
   "outputs": [],
   "source": []
  }
 ],
 "metadata": {
  "kernelspec": {
   "display_name": "Python 3",
   "language": "python",
   "name": "python3"
  },
  "language_info": {
   "codemirror_mode": {
    "name": "ipython",
    "version": 3
   },
   "file_extension": ".py",
   "mimetype": "text/x-python",
   "name": "python",
   "nbconvert_exporter": "python",
   "pygments_lexer": "ipython3",
   "version": "3.8.5"
  }
 },
 "nbformat": 4,
 "nbformat_minor": 4
}
